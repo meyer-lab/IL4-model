{
 "metadata": {
  "language_info": {
   "codemirror_mode": {
    "name": "ipython",
    "version": 3
   },
   "file_extension": ".py",
   "mimetype": "text/x-python",
   "name": "python",
   "nbconvert_exporter": "python",
   "pygments_lexer": "ipython3",
   "version": "3.9.4"
  },
  "orig_nbformat": 2,
  "kernelspec": {
   "name": "python3",
   "display_name": "Python 3",
   "language": "python"
  }
 },
 "nbformat": 4,
 "nbformat_minor": 2,
 "cells": [
  {
   "cell_type": "code",
   "execution_count": null,
   "metadata": {},
   "outputs": [],
   "source": [
    "\"\"\"\n",
    "Implementation of a simple multivalent binding model.\n",
    "\"\"\"\n",
    "\n",
    "import numpy as np\n",
    "import pandas as pd\n",
    "from scipy.optimize import minimize\n",
    "from src.MBmodel import cytBindingModel, SigData"
   ]
  },
  {
   "cell_type": "code",
   "execution_count": null,
   "metadata": {},
   "outputs": [],
   "source": [
    "def fitFunc():\n",
    "    \"Runs least squares fitting for various model parameters, and returns the minimizers\"\n",
    "    x0 = np.array([-12, 1.0, 8.6, 8, 8, 7.6, 7, 7, 9.08, 8, 8, 8.59, 7, 7])  # KXSTAR, slopeT1h, slopeT1m, mIL4-IL4Ra, mIL4-Gamma, mIL4-IL13Ra, mNeo4-IL4Ra, mNeo4-Gamma, mNeo4-IL13Ra, hIL4-IL4Ra, hIL4-Gamma, hIL4-IL13Ra, hNeo4-IL4Ra, hNeo4-Gamma, hNeo4-IL13Ra (Log 10)\n",
    "    bnds = ((-14, -10), (0, 10), (4, 11), (4, 11), (4, 11), (4, 11), (4, 11), (4, 11), (4, 11), (4, 11), (4, 11), (4, 11), (4, 11), (4, 11))\n",
    "    parampredicts = minimize(resids, x0, method='L-BFGS-B', bounds=bnds, options={\"disp\": 999})\n",
    "    assert parampredicts.success\n",
    "    return parampredicts.x\n",
    "\n",
    "def resids(x, retDF=False):\n",
    "    \"\"\"\"Returns residuals against signaling data\"\"\"\n",
    "    masterSTAT = pd.DataFrame(columns={\"Cell\", \"Ligand\", \"Concentration\", \"Animal\", \"Experimental\", \"Predicted\"})\n",
    "    Kx = x[0]\n",
    "    relRecp = x[1]\n",
    "    xPow = np.power(10, x)\n",
    "    CplxDict = {\"mIL4\": [[xPow[2], 1e2, 1e2], [1e2, xPow[3], xPow[4]]],\n",
    "    \"mNeo4\": [[xPow[5], 1e2, 1e2], [1e2, xPow[6], xPow[7]]],\n",
    "    \"hIL4\": [[xPow[8], 1e2, 1e2], [1e2, xPow[9], xPow[10]]],\n",
    "    \"hNeo4\": [[xPow[11], 1e2, 1e2], [1e2, xPow[12], xPow[13]]]}\n",
    "\n",
    "    for cell in SigData.Cell.unique():\n",
    "        for animal in SigData.loc[SigData.Cell == cell].Animal.unique():\n",
    "            for ligand in SigData.loc[(SigData.Cell == cell) & (SigData.Animal == animal)].Ligand.unique():\n",
    "                isoData = SigData.loc[(SigData.Cell == cell) & (SigData.Animal == animal) & (SigData.Ligand == ligand)]\n",
    "                Concs = isoData.Concentration.values\n",
    "                normSigs = isoData.Signal.values\n",
    "                ligCplx = CplxDict[ligand]\n",
    "                if animal == \"Human\":\n",
    "                    results = cytBindingModel(Kx, ligCplx, Concs, cell, animal, relRecp)\n",
    "                else:\n",
    "                    results = cytBindingModel(Kx, ligCplx, Concs, cell, animal, relRecp)\n",
    "                masterSTAT = masterSTAT.append(pd.DataFrame({\"Cell\": cell, \"Ligand\": ligand, \"Concentration\": Concs, \"Animal\": animal, \"Experimental\": normSigs, \"Predicted\": results}))\n",
    "            \n",
    "            # Normalize\n",
    "            masterSTAT.loc[(masterSTAT.Cell == cell) & (masterSTAT.Animal == animal), \"Predicted\"] /= masterSTAT.loc[(masterSTAT.Cell == cell) & (masterSTAT.Animal == animal)].Predicted.max()\n",
    "            masterSTAT.loc[(masterSTAT.Cell == cell) & (masterSTAT.Animal == animal), \"Experimental\"] /= masterSTAT.loc[(masterSTAT.Cell == cell) & (masterSTAT.Animal == animal)].Experimental.max()\n",
    " \n",
    "    if retDF:\n",
    "        return masterSTAT\n",
    "    else:\n",
    "        print(np.linalg.norm(masterSTAT.Predicted.values - masterSTAT.Experimental.values))\n",
    "        print(x)\n",
    "        return np.linalg.norm(masterSTAT.Predicted.values - masterSTAT.Experimental.values)"
   ]
  },
  {
   "cell_type": "code",
   "execution_count": null,
   "metadata": {
    "tags": []
   },
   "outputs": [],
   "source": [
    "fitFunc()"
   ]
  },
  {
   "cell_type": "code",
   "execution_count": null,
   "metadata": {},
   "outputs": [],
   "source": []
  }
 ]
}